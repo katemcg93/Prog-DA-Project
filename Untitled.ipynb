{
 "cells": [
  {
   "cell_type": "markdown",
   "id": "e7a053fb-76c8-4341-86b5-3c621bdbaec9",
   "metadata": {},
   "source": [
    "Plan for Project \n",
    "- Healthy Ireland Survey 2021\n",
    "Independent Variables\n",
    "- Age - representative sample, so generate simulation of Irish population\n",
    "- Gender\n",
    "- Weight\n",
    "- Education Status\n",
    "Dependent Variables \n",
    "- Alcohol Consumption\n",
    "- Smoking Status\n",
    "- BMI\n"
   ]
  }
 ],
 "metadata": {
  "kernelspec": {
   "display_name": "Python 3 (ipykernel)",
   "language": "python",
   "name": "python3"
  },
  "language_info": {
   "codemirror_mode": {
    "name": "ipython",
    "version": 3
   },
   "file_extension": ".py",
   "mimetype": "text/x-python",
   "name": "python",
   "nbconvert_exporter": "python",
   "pygments_lexer": "ipython3",
   "version": "3.8.12"
  }
 },
 "nbformat": 4,
 "nbformat_minor": 5
}
